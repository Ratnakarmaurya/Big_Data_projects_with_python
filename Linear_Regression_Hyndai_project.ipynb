{
 "cells": [
  {
   "cell_type": "markdown",
   "metadata": {},
   "source": [
    "# Linear Regression Consulting Project"
   ]
  },
  {
   "cell_type": "markdown",
   "metadata": {
    "collapsed": true
   },
   "source": [
    "Congratulations! You've been contracted by Hyundai Heavy Industries to help them build a predictive model for some ships. [Hyundai Heavy Industries](http://www.hyundai.eu/en) is one of the world's largest ship manufacturing companies and builds cruise liners.\n",
    "\n",
    "You've been flown to their headquarters in Ulsan, South Korea to help them give accurate estimates of how many crew members a ship will require.\n",
    "\n",
    "They are currently building new ships for some customers and want you to create a model and use it to predict how many crew members the ships will need.\n",
    "\n",
    "Here is what the data looks like so far:\n",
    "\n",
    "    Description: Measurements of ship size, capacity, crew, and age for 158 cruise\n",
    "    ships.\n",
    "\n",
    "\n",
    "    Variables/Columns\n",
    "    Ship Name     1-20\n",
    "    Cruise Line   21-40\n",
    "    Age (as of 2013)   46-48\n",
    "    Tonnage (1000s of tons)   50-56\n",
    "    passengers (100s)   58-64\n",
    "    Length (100s of feet)  66-72\n",
    "    Cabins  (100s)   74-80\n",
    "    Passenger Density   82-88\n",
    "    Crew  (100s)   90-96\n",
    "    \n",
    "It is saved in a csv file for you called \"cruise_ship_info.csv\". Your job is to create a regression model that will help predict how many crew members will be needed for future ships. The client also mentioned that they have found that particular cruise lines will differ in acceptable crew counts, so it is most likely an important feature to include in your analysis! \n",
    "\n",
    "Once you've created the model and tested it for a quick check on how well you can expect it to perform, make sure you take a look at why it performs so well!"
   ]
  },
  {
   "cell_type": "code",
   "execution_count": 2,
   "metadata": {},
   "outputs": [],
   "source": [
    "import findspark"
   ]
  },
  {
   "cell_type": "code",
   "execution_count": 3,
   "metadata": {},
   "outputs": [],
   "source": [
    "findspark.init(\"/home/ratzz/spark-2.4.4-bin-hadoop2.7\") #Using Virtual Box"
   ]
  },
  {
   "cell_type": "code",
   "execution_count": 4,
   "metadata": {},
   "outputs": [],
   "source": [
    "from pyspark.sql import SparkSession"
   ]
  },
  {
   "cell_type": "code",
   "execution_count": 5,
   "metadata": {},
   "outputs": [],
   "source": [
    "spark = SparkSession.builder.appName(\"project\").getOrCreate() #spark instance"
   ]
  },
  {
   "cell_type": "code",
   "execution_count": 16,
   "metadata": {},
   "outputs": [],
   "source": [
    "df = spark.read.csv(\"cruise_ship_info.csv\",inferSchema=True,header=True)"
   ]
  },
  {
   "cell_type": "code",
   "execution_count": 7,
   "metadata": {},
   "outputs": [
    {
     "name": "stdout",
     "output_type": "stream",
     "text": [
      "root\n",
      " |-- Ship_name: string (nullable = true)\n",
      " |-- Cruise_line: string (nullable = true)\n",
      " |-- Age: integer (nullable = true)\n",
      " |-- Tonnage: double (nullable = true)\n",
      " |-- passengers: double (nullable = true)\n",
      " |-- length: double (nullable = true)\n",
      " |-- cabins: double (nullable = true)\n",
      " |-- passenger_density: double (nullable = true)\n",
      " |-- crew: double (nullable = true)\n",
      "\n"
     ]
    }
   ],
   "source": [
    "df.printSchema() #Schema"
   ]
  },
  {
   "cell_type": "code",
   "execution_count": 8,
   "metadata": {},
   "outputs": [
    {
     "name": "stdout",
     "output_type": "stream",
     "text": [
      "Journey\n",
      "Azamara\n",
      "6\n",
      "30.276999999999997\n",
      "6.94\n",
      "5.94\n",
      "3.55\n",
      "42.64\n",
      "3.55\n"
     ]
    }
   ],
   "source": [
    "for items in df.head(2)[0]:\n",
    "    print(items)"
   ]
  },
  {
   "cell_type": "code",
   "execution_count": 9,
   "metadata": {},
   "outputs": [],
   "source": [
    "#all functions import here\n",
    "from pyspark.sql.functions import (countDistinct,format_number,)"
   ]
  },
  {
   "cell_type": "markdown",
   "metadata": {},
   "source": [
    "# EDA"
   ]
  },
  {
   "cell_type": "code",
   "execution_count": 10,
   "metadata": {},
   "outputs": [
    {
     "name": "stdout",
     "output_type": "stream",
     "text": [
      "+---------------------------+\n",
      "|count(DISTINCT Cruise_line)|\n",
      "+---------------------------+\n",
      "|                         20|\n",
      "+---------------------------+\n",
      "\n"
     ]
    }
   ],
   "source": [
    "#20 distinct cruise line \n",
    "df.select(countDistinct(\"Cruise_line\")).show()"
   ]
  },
  {
   "cell_type": "code",
   "execution_count": 11,
   "metadata": {},
   "outputs": [
    {
     "name": "stdout",
     "output_type": "stream",
     "text": [
      "Row(summary='count', Ship_name='158', Cruise_line='158', Age='158', Tonnage='158', passengers='158', length='158', cabins='158', passenger_density='158', crew='158')\n",
      "\n",
      "\n",
      "Row(summary='mean', Ship_name='Infinity', Cruise_line=None, Age='15.689873417721518', Tonnage='71.28467088607599', passengers='18.45740506329114', length='8.130632911392404', cabins='8.830000000000005', passenger_density='39.90094936708861', crew='7.794177215189873')\n",
      "\n",
      "\n",
      "Row(summary='stddev', Ship_name='NaN', Cruise_line=None, Age='7.615691058751413', Tonnage='37.229540025907866', passengers='9.677094775143416', length='1.793473548054825', cabins='4.4714172221480615', passenger_density='8.63921711391542', crew='3.503486564627034')\n",
      "\n",
      "\n",
      "Row(summary='min', Ship_name='Adventure', Cruise_line='Azamara', Age='4', Tonnage='2.329', passengers='0.66', length='2.79', cabins='0.33', passenger_density='17.7', crew='0.59')\n",
      "\n",
      "\n",
      "Row(summary='max', Ship_name='Zuiderdam', Cruise_line='Windstar', Age='48', Tonnage='220.0', passengers='54.0', length='11.82', cabins='27.0', passenger_density='71.43', crew='21.0')\n",
      "\n",
      "\n"
     ]
    }
   ],
   "source": [
    "#Describe\n",
    "for items in df.describe().head(10):\n",
    "    print(items)\n",
    "    print(\"\\n\")"
   ]
  },
  {
   "cell_type": "code",
   "execution_count": 34,
   "metadata": {},
   "outputs": [],
   "source": [
    "# df.show()"
   ]
  },
  {
   "cell_type": "code",
   "execution_count": 12,
   "metadata": {},
   "outputs": [],
   "source": [
    "group_df = df.groupBy(\"Cruise_line\").mean()"
   ]
  },
  {
   "cell_type": "code",
   "execution_count": 13,
   "metadata": {},
   "outputs": [],
   "source": [
    "# group_df.show()"
   ]
  },
  {
   "cell_type": "code",
   "execution_count": 14,
   "metadata": {},
   "outputs": [
    {
     "data": {
      "text/plain": [
       "['Ship_name',\n",
       " 'Cruise_line',\n",
       " 'Age',\n",
       " 'Tonnage',\n",
       " 'passengers',\n",
       " 'length',\n",
       " 'cabins',\n",
       " 'passenger_density',\n",
       " 'crew']"
      ]
     },
     "execution_count": 14,
     "metadata": {},
     "output_type": "execute_result"
    }
   ],
   "source": [
    "df.columns"
   ]
  },
  {
   "cell_type": "code",
   "execution_count": 15,
   "metadata": {},
   "outputs": [],
   "source": [
    "# df = df.select(['Cruise_line',\n",
    "#  'Age',\n",
    "#  'Tonnage',\n",
    "#  'passengers',\n",
    "#  'length',\n",
    "#  'cabins',\n",
    "#  'passenger_density',\"crew\"])"
   ]
  },
  {
   "cell_type": "code",
   "execution_count": 103,
   "metadata": {},
   "outputs": [
    {
     "name": "stdout",
     "output_type": "stream",
     "text": [
      "+-----------+---+------------------+----------+------+------+-----------------+\n",
      "|Cruise_line|Age|           Tonnage|passengers|length|cabins|passenger_density|\n",
      "+-----------+---+------------------+----------+------+------+-----------------+\n",
      "|    Azamara|  6|30.276999999999997|      6.94|  5.94|  3.55|            42.64|\n",
      "|    Azamara|  6|30.276999999999997|      6.94|  5.94|  3.55|            42.64|\n",
      "|   Carnival| 26|            47.262|     14.86|  7.22|  7.43|             31.8|\n",
      "|   Carnival| 11|             110.0|     29.74|  9.53| 14.88|            36.99|\n",
      "|   Carnival| 17|           101.353|     26.42|  8.92| 13.21|            38.36|\n",
      "|   Carnival| 22|            70.367|     20.52|  8.55|  10.2|            34.29|\n",
      "|   Carnival| 15|            70.367|     20.52|  8.55|  10.2|            34.29|\n",
      "|   Carnival| 23|            70.367|     20.56|  8.55| 10.22|            34.23|\n",
      "|   Carnival| 19|            70.367|     20.52|  8.55|  10.2|            34.29|\n",
      "|   Carnival|  6|110.23899999999999|      37.0|  9.51| 14.87|            29.79|\n",
      "|   Carnival| 10|             110.0|     29.74|  9.51| 14.87|            36.99|\n",
      "|   Carnival| 28|            46.052|     14.52|  7.27|  7.26|            31.72|\n",
      "|   Carnival| 18|            70.367|     20.52|  8.55|  10.2|            34.29|\n",
      "|   Carnival| 17|            70.367|     20.52|  8.55|  10.2|            34.29|\n",
      "|   Carnival| 11|              86.0|     21.24|  9.63| 10.62|            40.49|\n",
      "|   Carnival|  8|             110.0|     29.74|  9.51| 14.87|            36.99|\n",
      "|   Carnival|  9|              88.5|     21.24|  9.63| 10.62|            41.67|\n",
      "|   Carnival| 15|            70.367|     20.52|  8.55|  10.2|            34.29|\n",
      "|   Carnival| 12|              88.5|     21.24|  9.63| 11.62|            41.67|\n",
      "|   Carnival| 20|            70.367|     20.52|  8.55|  10.2|            34.29|\n",
      "+-----------+---+------------------+----------+------+------+-----------------+\n",
      "only showing top 20 rows\n",
      "\n"
     ]
    }
   ],
   "source": [
    "# training_Data.show()"
   ]
  },
  {
   "cell_type": "code",
   "execution_count": 104,
   "metadata": {},
   "outputs": [
    {
     "name": "stdout",
     "output_type": "stream",
     "text": [
      "root\n",
      " |-- Cruise_line: string (nullable = true)\n",
      " |-- Age: integer (nullable = true)\n",
      " |-- Tonnage: double (nullable = true)\n",
      " |-- passengers: double (nullable = true)\n",
      " |-- length: double (nullable = true)\n",
      " |-- cabins: double (nullable = true)\n",
      " |-- passenger_density: double (nullable = true)\n",
      "\n"
     ]
    }
   ],
   "source": [
    "# training_Data.printSchema()"
   ]
  },
  {
   "cell_type": "code",
   "execution_count": 17,
   "metadata": {},
   "outputs": [],
   "source": [
    "#Using String Indexer to convert Cruise line to number type\n",
    "from pyspark.ml.feature import StringIndexer"
   ]
  },
  {
   "cell_type": "code",
   "execution_count": 18,
   "metadata": {},
   "outputs": [],
   "source": [
    "indexer = StringIndexer(inputCol=\"Cruise_line\",outputCol=\"Cruise_lineIndexed\")"
   ]
  },
  {
   "cell_type": "code",
   "execution_count": 19,
   "metadata": {},
   "outputs": [],
   "source": [
    "indexed = indexer.fit(df).transform(df)"
   ]
  },
  {
   "cell_type": "code",
   "execution_count": 20,
   "metadata": {},
   "outputs": [
    {
     "name": "stdout",
     "output_type": "stream",
     "text": [
      "root\n",
      " |-- Ship_name: string (nullable = true)\n",
      " |-- Cruise_line: string (nullable = true)\n",
      " |-- Age: integer (nullable = true)\n",
      " |-- Tonnage: double (nullable = true)\n",
      " |-- passengers: double (nullable = true)\n",
      " |-- length: double (nullable = true)\n",
      " |-- cabins: double (nullable = true)\n",
      " |-- passenger_density: double (nullable = true)\n",
      " |-- crew: double (nullable = true)\n",
      " |-- Cruise_lineIndexed: double (nullable = false)\n",
      "\n"
     ]
    }
   ],
   "source": [
    "indexed.printSchema()"
   ]
  },
  {
   "cell_type": "code",
   "execution_count": 21,
   "metadata": {},
   "outputs": [],
   "source": [
    "# from pyspark.sql.types import DoubleType\n",
    "# Train_final=indexed.select(['Cruise_lineIndexed',\n",
    "#  'Age',\n",
    "#  'passengers',\n",
    "#  'length',\n",
    "#  'cabins',\n",
    "#  'passenger_density',\"Tonnage\"])"
   ]
  },
  {
   "cell_type": "code",
   "execution_count": 22,
   "metadata": {},
   "outputs": [],
   "source": [
    "# Train_final.printSchema()"
   ]
  },
  {
   "cell_type": "code",
   "execution_count": 23,
   "metadata": {},
   "outputs": [],
   "source": [
    "from pyspark.ml.feature import OneHotEncoderEstimator"
   ]
  },
  {
   "cell_type": "code",
   "execution_count": 24,
   "metadata": {},
   "outputs": [],
   "source": [
    "one_hot= OneHotEncoderEstimator(inputCols=['Cruise_lineIndexed'],outputCols=[\"Cruise_line_vect\"])"
   ]
  },
  {
   "cell_type": "code",
   "execution_count": 25,
   "metadata": {},
   "outputs": [],
   "source": [
    "one_hot_encoded = one_hot.fit(indexed).transform(indexed)"
   ]
  },
  {
   "cell_type": "code",
   "execution_count": 26,
   "metadata": {},
   "outputs": [
    {
     "data": {
      "text/plain": [
       "['Ship_name',\n",
       " 'Cruise_line',\n",
       " 'Age',\n",
       " 'Tonnage',\n",
       " 'passengers',\n",
       " 'length',\n",
       " 'cabins',\n",
       " 'passenger_density',\n",
       " 'crew',\n",
       " 'Cruise_lineIndexed',\n",
       " 'Cruise_line_vect']"
      ]
     },
     "execution_count": 26,
     "metadata": {},
     "output_type": "execute_result"
    }
   ],
   "source": [
    "one_hot_encoded.columns"
   ]
  },
  {
   "cell_type": "code",
   "execution_count": 116,
   "metadata": {},
   "outputs": [],
   "source": [
    "# features_Data = one_hot_encoded.select(['Age',\n",
    "#  'passengers',\n",
    "#  'length',\n",
    "#  'cabins',\n",
    "#  'passenger_density',\n",
    "#  'Tonnage',\n",
    "#  'Cruise_line_vect'])"
   ]
  },
  {
   "cell_type": "code",
   "execution_count": 27,
   "metadata": {},
   "outputs": [],
   "source": [
    "from pyspark.ml.linalg import Vectors\n",
    "from pyspark.ml.feature import VectorAssembler"
   ]
  },
  {
   "cell_type": "code",
   "execution_count": 28,
   "metadata": {},
   "outputs": [],
   "source": [
    "assembler = VectorAssembler(inputCols=['Age',\n",
    " 'passengers',\n",
    " 'length',\n",
    " 'cabins',\n",
    " 'passenger_density',\n",
    " 'Tonnage',\n",
    " 'Cruise_line_vect'],outputCol=\"features\")"
   ]
  },
  {
   "cell_type": "code",
   "execution_count": 29,
   "metadata": {},
   "outputs": [],
   "source": [
    "output = assembler.transform(one_hot_encoded)"
   ]
  },
  {
   "cell_type": "code",
   "execution_count": 30,
   "metadata": {},
   "outputs": [
    {
     "name": "stdout",
     "output_type": "stream",
     "text": [
      "root\n",
      " |-- Ship_name: string (nullable = true)\n",
      " |-- Cruise_line: string (nullable = true)\n",
      " |-- Age: integer (nullable = true)\n",
      " |-- Tonnage: double (nullable = true)\n",
      " |-- passengers: double (nullable = true)\n",
      " |-- length: double (nullable = true)\n",
      " |-- cabins: double (nullable = true)\n",
      " |-- passenger_density: double (nullable = true)\n",
      " |-- crew: double (nullable = true)\n",
      " |-- Cruise_lineIndexed: double (nullable = false)\n",
      " |-- Cruise_line_vect: vector (nullable = true)\n",
      " |-- features: vector (nullable = true)\n",
      "\n"
     ]
    }
   ],
   "source": [
    "output.printSchema()"
   ]
  },
  {
   "cell_type": "code",
   "execution_count": 32,
   "metadata": {},
   "outputs": [],
   "source": [
    "train_data, test_data = output.randomSplit([0.7,0.3])"
   ]
  },
  {
   "cell_type": "code",
   "execution_count": 35,
   "metadata": {},
   "outputs": [
    {
     "data": {
      "text/plain": [
       "['Ship_name',\n",
       " 'Cruise_line',\n",
       " 'Age',\n",
       " 'Tonnage',\n",
       " 'passengers',\n",
       " 'length',\n",
       " 'cabins',\n",
       " 'passenger_density',\n",
       " 'crew',\n",
       " 'Cruise_lineIndexed',\n",
       " 'Cruise_line_vect',\n",
       " 'features']"
      ]
     },
     "execution_count": 35,
     "metadata": {},
     "output_type": "execute_result"
    }
   ],
   "source": [
    "train_data.columns"
   ]
  },
  {
   "cell_type": "code",
   "execution_count": 36,
   "metadata": {},
   "outputs": [],
   "source": [
    "from pyspark.ml.regression import LinearRegression"
   ]
  },
  {
   "cell_type": "code",
   "execution_count": 37,
   "metadata": {},
   "outputs": [],
   "source": [
    "lr = LinearRegression(labelCol=\"crew\")"
   ]
  },
  {
   "cell_type": "code",
   "execution_count": 38,
   "metadata": {},
   "outputs": [],
   "source": [
    "lrModel = lr.fit(train_data)"
   ]
  },
  {
   "cell_type": "code",
   "execution_count": 39,
   "metadata": {},
   "outputs": [],
   "source": [
    "test_value = lrModel.evaluate(test_data)"
   ]
  },
  {
   "cell_type": "code",
   "execution_count": 40,
   "metadata": {},
   "outputs": [
    {
     "data": {
      "text/plain": [
       "0.6050283792910605"
      ]
     },
     "execution_count": 40,
     "metadata": {},
     "output_type": "execute_result"
    }
   ],
   "source": [
    "test_value.rootMeanSquaredError"
   ]
  },
  {
   "cell_type": "code",
   "execution_count": 41,
   "metadata": {},
   "outputs": [
    {
     "data": {
      "text/plain": [
       "0.9726994714588775"
      ]
     },
     "execution_count": 41,
     "metadata": {},
     "output_type": "execute_result"
    }
   ],
   "source": [
    "test_value.r2"
   ]
  },
  {
   "cell_type": "code",
   "execution_count": 54,
   "metadata": {},
   "outputs": [
    {
     "name": "stdout",
     "output_type": "stream",
     "text": [
      "+-------+---------+-----------+------------------+-----------------+------------------+-----------------+------------------+-----------------+-----------------+------------------+\n",
      "|summary|Ship_name|Cruise_line|               Age|          Tonnage|        passengers|           length|            cabins|passenger_density|             crew|Cruise_lineIndexed|\n",
      "+-------+---------+-----------+------------------+-----------------+------------------+-----------------+------------------+-----------------+-----------------+------------------+\n",
      "|  count|       35|         35|                35|               35|                35|               35|                35|               35|               35|                35|\n",
      "|   mean|     null|       null|16.914285714285715|70.40559999999998|18.565428571428573|7.913428571428573| 8.642000000000001|39.90085714285714|7.437999999999998| 5.142857142857143|\n",
      "| stddev|     null|       null| 8.905951178091795|42.57213808984905| 11.65006471652238|2.052666763100172|5.1149060137417734|9.074844147560938|3.715222105624057| 5.531422841861052|\n",
      "|    min|    Aries|   Carnival|                 6|            3.341|              0.66|              2.8|              0.33|            24.04|             0.59|               0.0|\n",
      "|    max|   Zenith|   Windstar|                48|            158.0|              43.7|            11.25|              18.0|            65.71|             13.6|              19.0|\n",
      "+-------+---------+-----------+------------------+-----------------+------------------+-----------------+------------------+-----------------+-----------------+------------------+\n",
      "\n"
     ]
    }
   ],
   "source": [
    "test_data.describe().show()"
   ]
  },
  {
   "cell_type": "code",
   "execution_count": 42,
   "metadata": {},
   "outputs": [
    {
     "name": "stdout",
     "output_type": "stream",
     "text": [
      "+--------------------+\n",
      "|           residuals|\n",
      "+--------------------+\n",
      "|  -0.822217850501007|\n",
      "| -0.3570051891198709|\n",
      "|-0.18840907734201195|\n",
      "|  0.8640332059106992|\n",
      "|  1.8166889212225383|\n",
      "|-0.15096328080813137|\n",
      "|  0.5850076461615128|\n",
      "| 0.13162924653934915|\n",
      "| -0.3348416011358353|\n",
      "| 0.13430090934850014|\n",
      "|-0.15677532014122697|\n",
      "| -0.1507217162032113|\n",
      "|  0.0723980902770549|\n",
      "|-0.00732767722882...|\n",
      "|-0.09158869097060363|\n",
      "| -0.4257382311723781|\n",
      "|  0.9508815647274638|\n",
      "| 0.11412001234177538|\n",
      "|  -0.425496666567458|\n",
      "|  0.5062060070090908|\n",
      "+--------------------+\n",
      "only showing top 20 rows\n",
      "\n"
     ]
    }
   ],
   "source": [
    "test_value.residuals.show()"
   ]
  },
  {
   "cell_type": "code",
   "execution_count": 45,
   "metadata": {},
   "outputs": [],
   "source": [
    "unlabled_data = test_data.select(\"features\")"
   ]
  },
  {
   "cell_type": "code",
   "execution_count": 47,
   "metadata": {},
   "outputs": [
    {
     "name": "stdout",
     "output_type": "stream",
     "text": [
      "+--------------------+\n",
      "|            features|\n",
      "+--------------------+\n",
      "|(25,[0,1,2,3,4,5,...|\n",
      "|(25,[0,1,2,3,4,5,...|\n",
      "|(25,[0,1,2,3,4,5,...|\n",
      "|(25,[0,1,2,3,4,5,...|\n",
      "|(25,[0,1,2,3,4,5,...|\n",
      "|(25,[0,1,2,3,4,5,...|\n",
      "|(25,[0,1,2,3,4,5,...|\n",
      "|(25,[0,1,2,3,4,5,...|\n",
      "|(25,[0,1,2,3,4,5,...|\n",
      "|(25,[0,1,2,3,4,5,...|\n",
      "|(25,[0,1,2,3,4,5,...|\n",
      "|(25,[0,1,2,3,4,5,...|\n",
      "|(25,[0,1,2,3,4,5,...|\n",
      "|(25,[0,1,2,3,4,5,...|\n",
      "|(25,[0,1,2,3,4,5]...|\n",
      "|(25,[0,1,2,3,4,5,...|\n",
      "|(25,[0,1,2,3,4,5,...|\n",
      "|(25,[0,1,2,3,4,5,...|\n",
      "|(25,[0,1,2,3,4,5,...|\n",
      "|(25,[0,1,2,3,4,5,...|\n",
      "+--------------------+\n",
      "only showing top 20 rows\n",
      "\n"
     ]
    }
   ],
   "source": [
    "unlabled_data.show() #lets deploy some unlabled features "
   ]
  },
  {
   "cell_type": "code",
   "execution_count": 48,
   "metadata": {},
   "outputs": [],
   "source": [
    "predictions = lrModel.transform(unlabled_data)"
   ]
  },
  {
   "cell_type": "code",
   "execution_count": 49,
   "metadata": {},
   "outputs": [
    {
     "name": "stdout",
     "output_type": "stream",
     "text": [
      "+--------------------+------------------+\n",
      "|            features|        prediction|\n",
      "+--------------------+------------------+\n",
      "|(25,[0,1,2,3,4,5,...| 1.412217850501007|\n",
      "|(25,[0,1,2,3,4,5,...|11.357005189119871|\n",
      "|(25,[0,1,2,3,4,5,...| 9.188409077342012|\n",
      "|(25,[0,1,2,3,4,5,...|11.515966794089302|\n",
      "|(25,[0,1,2,3,4,5,...| 4.893311078777462|\n",
      "|(25,[0,1,2,3,4,5,...| 7.750963280808131|\n",
      "|(25,[0,1,2,3,4,5,...|0.8749923538384872|\n",
      "|(25,[0,1,2,3,4,5,...|  9.06837075346065|\n",
      "|(25,[0,1,2,3,4,5,...|11.834841601135835|\n",
      "|(25,[0,1,2,3,4,5,...|  13.4656990906515|\n",
      "|(25,[0,1,2,3,4,5,...|11.256775320141227|\n",
      "|(25,[0,1,2,3,4,5,...| 7.750721716203211|\n",
      "|(25,[0,1,2,3,4,5,...|13.527601909722945|\n",
      "|(25,[0,1,2,3,4,5,...|  8.22732767722883|\n",
      "|(25,[0,1,2,3,4,5]...|3.5915886909706036|\n",
      "|(25,[0,1,2,3,4,5,...|12.275738231172378|\n",
      "|(25,[0,1,2,3,4,5,...| 4.399118435272536|\n",
      "|(25,[0,1,2,3,4,5,...| 9.875879987658225|\n",
      "|(25,[0,1,2,3,4,5,...|12.275496666567458|\n",
      "|(25,[0,1,2,3,4,5,...|  8.49379399299091|\n",
      "+--------------------+------------------+\n",
      "only showing top 20 rows\n",
      "\n"
     ]
    }
   ],
   "source": [
    "predictions.show()"
   ]
  },
  {
   "cell_type": "code",
   "execution_count": 52,
   "metadata": {},
   "outputs": [],
   "source": [
    "# df.filter(\"crew < 2\").show()"
   ]
  },
  {
   "cell_type": "markdown",
   "metadata": {},
   "source": [
    "# Made By Ratanakar Maurya"
   ]
  }
 ],
 "metadata": {
  "anaconda-cloud": {},
  "kernelspec": {
   "display_name": "Python 3",
   "language": "python",
   "name": "python3"
  },
  "language_info": {
   "codemirror_mode": {
    "name": "ipython",
    "version": 3
   },
   "file_extension": ".py",
   "mimetype": "text/x-python",
   "name": "python",
   "nbconvert_exporter": "python",
   "pygments_lexer": "ipython3",
   "version": "3.6.9"
  }
 },
 "nbformat": 4,
 "nbformat_minor": 1
}
