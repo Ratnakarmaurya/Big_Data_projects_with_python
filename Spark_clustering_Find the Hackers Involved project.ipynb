{
 "cells": [
  {
   "cell_type": "markdown",
   "metadata": {},
   "source": [
    "# Find the Hackers Involved\n",
    "\n",
    "A large technology firm needs your help, they've been hacked! Luckily their forensic engineers have grabbed valuable data about the hacks, including information like session time,locations, wpm typing speed, etc. The forensic engineer relates to you what she has been able to figure out so far, she has been able to grab meta data of each session that the hackers used to connect to their servers. These are the features of the data:\n",
    "\n",
    "* 'Session_Connection_Time': How long the session lasted in minutes\n",
    "* 'Bytes Transferred': Number of MB transferred during session\n",
    "* 'Kali_Trace_Used': Indicates if the hacker was using Kali Linux\n",
    "* 'Servers_Corrupted': Number of server corrupted during the attack\n",
    "* 'Pages_Corrupted': Number of pages illegally accessed\n",
    "* 'Location': Location attack came from (Probably useless because the hackers used VPNs)\n",
    "* 'WPM_Typing_Speed': Their estimated typing speed based on session logs.\n",
    "\n",
    "\n",
    "The technology firm has 3 potential hackers that perpetrated the attack. Their certain of the first two hackers but they aren't very sure if the third hacker was involved or not. They have requested your help! Can you help figure out whether or not the third suspect had anything to do with the attacks, or was it just two hackers? It's probably not possible to know for sure, but maybe what you've just learned about Clustering can help!\n",
    "\n",
    "**One last key fact, the forensic engineer knows that the hackers trade off attacks. Meaning they should each have roughly the same amount of attacks. For example if there were 100 total attacks, then in a 2 hacker situation each should have about 50 hacks, in a three hacker situation each would have about 33 hacks. The engineer believes this is the key element to solving this, but doesn't know how to distinguish this unlabeled data into groups of hackers.**"
   ]
  },
  {
   "cell_type": "code",
   "execution_count": 1,
   "metadata": {},
   "outputs": [],
   "source": [
    "import findspark\n",
    "findspark.init(\"/home/ratzz/spark-2.4.4-bin-hadoop2.7\")\n",
    "from pyspark.sql import SparkSession\n",
    "spark = SparkSession.builder.appName('lr').getOrCreate()"
   ]
  },
  {
   "cell_type": "code",
   "execution_count": 2,
   "metadata": {},
   "outputs": [],
   "source": [
    "df = spark.read.csv(\"hack_data.csv\",inferSchema=True,header=True)"
   ]
  },
  {
   "cell_type": "code",
   "execution_count": 6,
   "metadata": {},
   "outputs": [
    {
     "data": {
      "text/html": [
       "<div>\n",
       "<style scoped>\n",
       "    .dataframe tbody tr th:only-of-type {\n",
       "        vertical-align: middle;\n",
       "    }\n",
       "\n",
       "    .dataframe tbody tr th {\n",
       "        vertical-align: top;\n",
       "    }\n",
       "\n",
       "    .dataframe thead th {\n",
       "        text-align: right;\n",
       "    }\n",
       "</style>\n",
       "<table border=\"1\" class=\"dataframe\">\n",
       "  <thead>\n",
       "    <tr style=\"text-align: right;\">\n",
       "      <th></th>\n",
       "      <th>Session_Connection_Time</th>\n",
       "      <th>Bytes Transferred</th>\n",
       "      <th>Kali_Trace_Used</th>\n",
       "      <th>Servers_Corrupted</th>\n",
       "      <th>Pages_Corrupted</th>\n",
       "      <th>Location</th>\n",
       "      <th>WPM_Typing_Speed</th>\n",
       "    </tr>\n",
       "  </thead>\n",
       "  <tbody>\n",
       "    <tr>\n",
       "      <th>0</th>\n",
       "      <td>8.0</td>\n",
       "      <td>391.09</td>\n",
       "      <td>1</td>\n",
       "      <td>2.96</td>\n",
       "      <td>7.0</td>\n",
       "      <td>Slovenia</td>\n",
       "      <td>72.37</td>\n",
       "    </tr>\n",
       "    <tr>\n",
       "      <th>1</th>\n",
       "      <td>20.0</td>\n",
       "      <td>720.99</td>\n",
       "      <td>0</td>\n",
       "      <td>3.04</td>\n",
       "      <td>9.0</td>\n",
       "      <td>British Virgin Islands</td>\n",
       "      <td>69.08</td>\n",
       "    </tr>\n",
       "    <tr>\n",
       "      <th>2</th>\n",
       "      <td>31.0</td>\n",
       "      <td>356.32</td>\n",
       "      <td>1</td>\n",
       "      <td>3.71</td>\n",
       "      <td>8.0</td>\n",
       "      <td>Tokelau</td>\n",
       "      <td>70.58</td>\n",
       "    </tr>\n",
       "    <tr>\n",
       "      <th>3</th>\n",
       "      <td>2.0</td>\n",
       "      <td>228.08</td>\n",
       "      <td>1</td>\n",
       "      <td>2.48</td>\n",
       "      <td>8.0</td>\n",
       "      <td>Bolivia</td>\n",
       "      <td>70.80</td>\n",
       "    </tr>\n",
       "    <tr>\n",
       "      <th>4</th>\n",
       "      <td>20.0</td>\n",
       "      <td>408.50</td>\n",
       "      <td>0</td>\n",
       "      <td>3.57</td>\n",
       "      <td>8.0</td>\n",
       "      <td>Iraq</td>\n",
       "      <td>71.28</td>\n",
       "    </tr>\n",
       "    <tr>\n",
       "      <th>5</th>\n",
       "      <td>1.0</td>\n",
       "      <td>390.69</td>\n",
       "      <td>1</td>\n",
       "      <td>2.79</td>\n",
       "      <td>9.0</td>\n",
       "      <td>Marshall Islands</td>\n",
       "      <td>71.57</td>\n",
       "    </tr>\n",
       "    <tr>\n",
       "      <th>6</th>\n",
       "      <td>18.0</td>\n",
       "      <td>342.97</td>\n",
       "      <td>1</td>\n",
       "      <td>5.10</td>\n",
       "      <td>7.0</td>\n",
       "      <td>Georgia</td>\n",
       "      <td>72.32</td>\n",
       "    </tr>\n",
       "  </tbody>\n",
       "</table>\n",
       "</div>"
      ],
      "text/plain": [
       "   Session_Connection_Time  Bytes Transferred  Kali_Trace_Used  \\\n",
       "0                      8.0             391.09                1   \n",
       "1                     20.0             720.99                0   \n",
       "2                     31.0             356.32                1   \n",
       "3                      2.0             228.08                1   \n",
       "4                     20.0             408.50                0   \n",
       "5                      1.0             390.69                1   \n",
       "6                     18.0             342.97                1   \n",
       "\n",
       "   Servers_Corrupted  Pages_Corrupted                Location  \\\n",
       "0               2.96              7.0                Slovenia   \n",
       "1               3.04              9.0  British Virgin Islands   \n",
       "2               3.71              8.0                 Tokelau   \n",
       "3               2.48              8.0                 Bolivia   \n",
       "4               3.57              8.0                    Iraq   \n",
       "5               2.79              9.0        Marshall Islands   \n",
       "6               5.10              7.0                 Georgia   \n",
       "\n",
       "   WPM_Typing_Speed  \n",
       "0             72.37  \n",
       "1             69.08  \n",
       "2             70.58  \n",
       "3             70.80  \n",
       "4             71.28  \n",
       "5             71.57  \n",
       "6             72.32  "
      ]
     },
     "execution_count": 6,
     "metadata": {},
     "output_type": "execute_result"
    }
   ],
   "source": [
    "df.toPandas().head(7)"
   ]
  },
  {
   "cell_type": "code",
   "execution_count": 7,
   "metadata": {},
   "outputs": [
    {
     "name": "stdout",
     "output_type": "stream",
     "text": [
      "root\n",
      " |-- Session_Connection_Time: double (nullable = true)\n",
      " |-- Bytes Transferred: double (nullable = true)\n",
      " |-- Kali_Trace_Used: integer (nullable = true)\n",
      " |-- Servers_Corrupted: double (nullable = true)\n",
      " |-- Pages_Corrupted: double (nullable = true)\n",
      " |-- Location: string (nullable = true)\n",
      " |-- WPM_Typing_Speed: double (nullable = true)\n",
      "\n"
     ]
    }
   ],
   "source": [
    "df.printSchema()"
   ]
  },
  {
   "cell_type": "code",
   "execution_count": 8,
   "metadata": {},
   "outputs": [
    {
     "data": {
      "text/plain": [
       "['Session_Connection_Time',\n",
       " 'Bytes Transferred',\n",
       " 'Kali_Trace_Used',\n",
       " 'Servers_Corrupted',\n",
       " 'Pages_Corrupted',\n",
       " 'Location',\n",
       " 'WPM_Typing_Speed']"
      ]
     },
     "execution_count": 8,
     "metadata": {},
     "output_type": "execute_result"
    }
   ],
   "source": [
    "df.columns"
   ]
  },
  {
   "cell_type": "code",
   "execution_count": 9,
   "metadata": {},
   "outputs": [],
   "source": [
    "#droping locations as hackers uszed VPNs\n",
    "vectoring_features = df.select(['Session_Connection_Time',\n",
    " 'Bytes Transferred',\n",
    " 'Kali_Trace_Used',\n",
    " 'Servers_Corrupted',\n",
    " 'Pages_Corrupted','WPM_Typing_Speed'])"
   ]
  },
  {
   "cell_type": "code",
   "execution_count": 11,
   "metadata": {},
   "outputs": [
    {
     "name": "stdout",
     "output_type": "stream",
     "text": [
      "+-----------------------+-----------------+---------------+-----------------+---------------+----------------+\n",
      "|Session_Connection_Time|Bytes Transferred|Kali_Trace_Used|Servers_Corrupted|Pages_Corrupted|WPM_Typing_Speed|\n",
      "+-----------------------+-----------------+---------------+-----------------+---------------+----------------+\n",
      "|                    8.0|           391.09|              1|             2.96|            7.0|           72.37|\n",
      "|                   20.0|           720.99|              0|             3.04|            9.0|           69.08|\n",
      "|                   31.0|           356.32|              1|             3.71|            8.0|           70.58|\n",
      "|                    2.0|           228.08|              1|             2.48|            8.0|            70.8|\n",
      "|                   20.0|            408.5|              0|             3.57|            8.0|           71.28|\n",
      "+-----------------------+-----------------+---------------+-----------------+---------------+----------------+\n",
      "only showing top 5 rows\n",
      "\n"
     ]
    }
   ],
   "source": [
    "vectoring_features.show(5)"
   ]
  },
  {
   "cell_type": "code",
   "execution_count": 13,
   "metadata": {},
   "outputs": [],
   "source": [
    "#importing all the neccesary Libraries\n",
    "from pyspark.ml.clustering import KMeans\n",
    "from pyspark.ml.feature import StandardScaler,VectorAssembler\n",
    "from pyspark.ml.pipeline import Pipeline"
   ]
  },
  {
   "cell_type": "code",
   "execution_count": 52,
   "metadata": {},
   "outputs": [],
   "source": [
    "assembler = VectorAssembler(inputCols=['Session_Connection_Time','Bytes Transferred','Kali_Trace_Used',\n",
    "                                         'Servers_Corrupted','Pages_Corrupted','WPM_Typing_Speed'],outputCol=\"features\")\n",
    "scaled = StandardScaler(inputCol=\"features\",outputCol=\"scaled_features\")\n",
    "algo_kmeans = KMeans(featuresCol=\"scaled_features\").setK(2)"
   ]
  },
  {
   "cell_type": "code",
   "execution_count": 53,
   "metadata": {},
   "outputs": [],
   "source": [
    "pipeline = Pipeline(stages=[assembler,scaled,algo_kmeans])"
   ]
  },
  {
   "cell_type": "code",
   "execution_count": 54,
   "metadata": {},
   "outputs": [],
   "source": [
    "model = pipeline.fit(vectoring_features)"
   ]
  },
  {
   "cell_type": "code",
   "execution_count": 55,
   "metadata": {},
   "outputs": [],
   "source": [
    "results = model.transform(vectoring_features)"
   ]
  },
  {
   "cell_type": "code",
   "execution_count": 56,
   "metadata": {},
   "outputs": [
    {
     "data": {
      "text/plain": [
       "1    167\n",
       "2     88\n",
       "0     79\n",
       "Name: prediction, dtype: int64"
      ]
     },
     "execution_count": 56,
     "metadata": {},
     "output_type": "execute_result"
    }
   ],
   "source": [
    "not3hackers"
   ]
  },
  {
   "cell_type": "code",
   "execution_count": 57,
   "metadata": {},
   "outputs": [
    {
     "data": {
      "text/plain": [
       "1    167\n",
       "0    167\n",
       "Name: prediction, dtype: int64"
      ]
     },
     "execution_count": 57,
     "metadata": {},
     "output_type": "execute_result"
    }
   ],
   "source": [
    "results.toPandas()[\"prediction\"].value_counts()"
   ]
  },
  {
   "cell_type": "markdown",
   "metadata": {},
   "source": [
    "### As per instaructed by the forensic departmeant this clustering says that there was no involvment of 3rd Hacker"
   ]
  },
  {
   "cell_type": "markdown",
   "metadata": {},
   "source": [
    "# Made by Ratnakar Maurya"
   ]
  }
 ],
 "metadata": {
  "anaconda-cloud": {},
  "kernelspec": {
   "display_name": "Python 3",
   "language": "python",
   "name": "python3"
  },
  "language_info": {
   "codemirror_mode": {
    "name": "ipython",
    "version": 3
   },
   "file_extension": ".py",
   "mimetype": "text/x-python",
   "name": "python",
   "nbconvert_exporter": "python",
   "pygments_lexer": "ipython3",
   "version": "3.6.9"
  }
 },
 "nbformat": 4,
 "nbformat_minor": 1
}
